{
 "cells": [
  {
   "cell_type": "code",
   "execution_count": 98,
   "metadata": {},
   "outputs": [
    {
     "name": "stdout",
     "output_type": "stream",
     "text": [
      "2\n"
     ]
    }
   ],
   "source": [
    "import random as rng\n",
    "# weights = [30, 60, 70, 10, 90]\n",
    "\n",
    "def accumulate(iterable):\n",
    "    total = 0\n",
    "    for v in iterable:\n",
    "        total += v\n",
    "        yield total\n",
    "\n",
    "\n",
    "def bisect_left(a, x, lo=0, *, key=None):\n",
    "    \"\"\"\n",
    "    Return the index where to insert item x in list a, assuming a is sorted.\"\"\"\n",
    "\n",
    "    hi = len(a)\n",
    "\n",
    "    if key is None:\n",
    "        while lo < hi:\n",
    "            mid = (lo + hi) // 2\n",
    "            if a[mid] < x:\n",
    "                lo = mid + 1\n",
    "            else:\n",
    "                hi = mid\n",
    "    return lo\n",
    "\n",
    "\n",
    "def prob_weighted_choice(mylist, myweights):\n",
    "    cum_weights = list(accumulate(myweights))\n",
    "    total = cum_weights[-1]\n",
    "    index = bisect_left(cum_weights, rng.random() * total)\n",
    "\n",
    "    return mylist[index]\n",
    "\n",
    "test = [2]\n",
    "weights = [59402]\n",
    "\n",
    "print(prob_weighted_choice(test, weights))"
   ]
  },
  {
   "cell_type": "code",
   "execution_count": null,
   "metadata": {},
   "outputs": [],
   "source": []
  }
 ],
 "metadata": {
  "kernelspec": {
   "display_name": "csci1470",
   "language": "python",
   "name": "python3"
  },
  "language_info": {
   "codemirror_mode": {
    "name": "ipython",
    "version": 3
   },
   "file_extension": ".py",
   "mimetype": "text/x-python",
   "name": "python",
   "nbconvert_exporter": "python",
   "pygments_lexer": "ipython3",
   "version": "3.10.14"
  }
 },
 "nbformat": 4,
 "nbformat_minor": 2
}
